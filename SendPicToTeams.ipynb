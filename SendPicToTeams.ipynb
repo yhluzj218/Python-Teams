{
 "cells": [
  {
   "cell_type": "code",
   "execution_count": 3,
   "metadata": {},
   "outputs": [
    {
     "name": "stdout",
     "output_type": "stream",
     "text": [
      "Defaulting to user installation because normal site-packages is not writeable\n",
      "Requirement already satisfied: requests in /Users/connie/Library/Python/3.9/lib/python/site-packages (2.31.0)\n",
      "Requirement already satisfied: charset-normalizer<4,>=2 in /Users/connie/Library/Python/3.9/lib/python/site-packages (from requests) (3.3.2)\n",
      "Requirement already satisfied: certifi>=2017.4.17 in /Users/connie/Library/Python/3.9/lib/python/site-packages (from requests) (2023.11.17)\n",
      "Requirement already satisfied: urllib3<3,>=1.21.1 in /Users/connie/Library/Python/3.9/lib/python/site-packages (from requests) (2.1.0)\n",
      "Requirement already satisfied: idna<4,>=2.5 in /Users/connie/Library/Python/3.9/lib/python/site-packages (from requests) (3.6)\n",
      "\u001b[33mWARNING: You are using pip version 21.2.4; however, version 23.3.2 is available.\n",
      "You should consider upgrading via the '/Library/Developer/CommandLineTools/usr/bin/python3 -m pip install --upgrade pip' command.\u001b[0m\n",
      "Note: you may need to restart the kernel to use updated packages.\n"
     ]
    }
   ],
   "source": [
    "%pip install requests"
   ]
  },
  {
   "cell_type": "code",
   "execution_count": 4,
   "metadata": {},
   "outputs": [
    {
     "data": {
      "text/plain": [
       "200"
      ]
     },
     "execution_count": 4,
     "metadata": {},
     "output_type": "execute_result"
    }
   ],
   "source": [
    "import json\n",
    "import requests\n",
    "\n",
    "def send_image_to_teams(webhook_url, image_url):\n",
    "    headers = {\n",
    "        \"Content-Type\": \"application/json\"\n",
    "    }\n",
    "    payload = {\n",
    "        \"@context\": \"https://schema.org/extensions\",\n",
    "        \"@type\": \"MessageCard\",\n",
    "        \"themeColor\": \"0076D7\",\n",
    "        \"title\": \"Notification from Python script\",\n",
    "        \"text\": \"Here is an image:\",\n",
    "        \"potentialAction\": [\n",
    "            {\n",
    "                \"@type\": \"OpenUri\",\n",
    "                \"name\": \"View Image\",\n",
    "                \"targets\": [\n",
    "                    {\"os\": \"default\", \"uri\": image_url}\n",
    "                ]\n",
    "            }\n",
    "        ]\n",
    "    }\n",
    "    response = requests.post(webhook_url, headers=headers, data=json.dumps(payload))\n",
    "    return response.status_code\n",
    "\n",
    "webhook_url = \"https://chimei365.webhook.office.com/webhookb2/60f2541f-7fe6-46bb-9784-2af385835aa3@346d9641-a1f8-45a1-8081-10854e0c823c/IncomingWebhook/9864ae09f6444d6ebe8843b4e1bd8f99/f08d1713-412f-4b7f-83ab-7ee65650f0a1\"\n",
    "image_url = \"https://images.pexels.com/photos/18585128/pexels-photo-18585128.jpeg?auto=compress&cs=tinysrgb&w=1260&h=750&dpr=2\"\n",
    "send_image_to_teams(webhook_url, image_url)"
   ]
  }
 ],
 "metadata": {
  "kernelspec": {
   "display_name": "Python 3",
   "language": "python",
   "name": "python3"
  },
  "language_info": {
   "codemirror_mode": {
    "name": "ipython",
    "version": 3
   },
   "file_extension": ".py",
   "mimetype": "text/x-python",
   "name": "python",
   "nbconvert_exporter": "python",
   "pygments_lexer": "ipython3",
   "version": "3.9.6"
  }
 },
 "nbformat": 4,
 "nbformat_minor": 2
}
