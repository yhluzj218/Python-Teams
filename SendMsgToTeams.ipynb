{
 "cells": [
  {
   "cell_type": "code",
   "execution_count": null,
   "metadata": {},
   "outputs": [],
   "source": []
  },
  {
   "cell_type": "code",
   "execution_count": 4,
   "metadata": {},
   "outputs": [],
   "source": [
    "import json\n",
    "\n",
    "def send_message_to_teams(webhook_url, message):\n",
    "    headers = {\n",
    "        \"Content-Type\": \"application/json\"\n",
    "    }\n",
    "    payload = {\n",
    "        \"@context\": \"https://schema.org/extensions\",\n",
    "        \"@type\": \"MessageCard\",\n",
    "        \"themeColor\": \"0076D7\",\n",
    "        \"title\": \"Notification from Python script\",\n",
    "        \"text\": message,\n",
    "    }\n",
    "\n",
    "\n",
    "webhook_url = \"https://chimei365.webhook.office.com/webhookb2/60f2541f-7fe6-46bb-9784-2af385835aa3@346d9641-a1f8-45a1-8081-10854e0c823c/IncomingWebhook/9864ae09f6444d6ebe8843b4e1bd8f99/f08d1713-412f-4b7f-83ab-7ee65650f0a1\"\n",
    "message = \"Hello, Teams!\"\n",
    "send_message_to_teams(webhook_url, message)"
   ]
  }
 ],
 "metadata": {
  "kernelspec": {
   "display_name": "Python 3",
   "language": "python",
   "name": "python3"
  },
  "language_info": {
   "codemirror_mode": {
    "name": "ipython",
    "version": 3
   },
   "file_extension": ".py",
   "mimetype": "text/x-python",
   "name": "python",
   "nbconvert_exporter": "python",
   "pygments_lexer": "ipython3",
   "version": "3.9.6"
  }
 },
 "nbformat": 4,
 "nbformat_minor": 2
}
