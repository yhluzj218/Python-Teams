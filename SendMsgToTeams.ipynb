import json

def send_message_to_teams(webhook_url, message):
    headers = {
        "Content-Type": "application/json"
    }
    payload = {
        "@context": "https://schema.org/extensions",
        "@type": "MessageCard",
        "themeColor": "0076D7",
        "title": "Notification from Python script",
        "text": message,
    }


webhook_url = "https://chimei365.webhook.office.com/webhookb2/60f2541f-7fe6-46bb-9784-2af385835aa3@346d9641-a1f8-45a1-8081-10854e0c823c/IncomingWebhook/9864ae09f6444d6ebe8843b4e1bd8f99/f08d1713-412f-4b7f-83ab-7ee65650f0a1"
message = "Hello, Teams!"
send_message_to_teams(webhook_url, message)
